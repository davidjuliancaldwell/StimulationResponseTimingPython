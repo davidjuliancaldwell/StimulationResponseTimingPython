{
 "cells": [
  {
   "cell_type": "markdown",
   "metadata": {},
   "source": [
    "## This is the Jupyter notebook with python code to load in the preprocessed response time data, to create the figures in the manuscript, and to create a .csv file for further statistical analysis in MATLAB. \n",
    "\n",
    "#BSD-3 License\n",
    "\n",
    "### import necessary packages"
   ]
  },
  {
   "cell_type": "code",
   "execution_count": 1,
   "metadata": {},
   "outputs": [],
   "source": [
    "import numpy as np\n",
    "import scipy\n",
    "from scipy.io import loadmat\n",
    "import matplotlib.pyplot as plt\n",
    "import pandas as pd\n",
    "import seaborn as sns; sns.set()\n",
    "\n",
    "sns.set_context(\"poster\") # this makes things large \n",
    "\n",
    "%matplotlib inline"
   ]
  },
  {
   "cell_type": "code",
   "execution_count": 2,
   "metadata": {},
   "outputs": [],
   "source": [
    "### decide whether or not to save figures and data for MATLAB\n",
    "\n",
    "saveFig = False\n",
    "saveMat = False"
   ]
  },
  {
   "cell_type": "code",
   "execution_count": 3,
   "metadata": {},
   "outputs": [],
   "source": [
    "### import the .mat data files\n",
    "\n",
    "\n",
    "#mat1 = loadmat('a1355e_Priming_block_3.mat',squeeze_me=1)\n",
    "#mat2 = loadmat('a1355e_Priming_block_4',squeeze_me=1)\n",
    "\n",
    "\n",
    "mat1 = loadmat('a1355e_priming_behavior_block_1.mat',squeeze_me=1)\n",
    "mat2 = loadmat('a1355e_priming_behavior_block_2.mat',squeeze_me=1)\n"
   ]
  },
  {
   "cell_type": "code",
   "execution_count": 4,
   "metadata": {},
   "outputs": [],
   "source": [
    "### extract variables of interest\n",
    "### respLo = the minimum response time\n",
    "### respHi = the maximum response time\n",
    "\n",
    "respLo = 150 # minimum response time - 150 ms\n",
    "respHi = 1000 # maximum response time - 1000 ms\n",
    "\n",
    "button1 = mat1['buttonLocs']\n",
    "button2 = mat2['buttonLocs']\n"
   ]
  },
  {
   "cell_type": "code",
   "execution_count": 5,
   "metadata": {},
   "outputs": [],
   "source": [
    "### prepare for pandas data frame\n",
    "\n",
    "\n",
    "a = np.arange(0,button1.shape[0])\n",
    "ndata1 = {n: 1e3*button1[n] for n in a}\n",
    "a = np.arange(0,button2.shape[0])\n",
    "ndata2 = {n: 1e3*button2[n] for n in a}\n"
   ]
  },
  {
   "cell_type": "code",
   "execution_count": 6,
   "metadata": {},
   "outputs": [],
   "source": [
    "### make pandas dataframes\n",
    "\n",
    "dataFdict1 = pd.DataFrame.from_dict(ndata1,orient='columns')\n",
    "dataFdict2 = pd.DataFrame.from_dict(ndata2,orient='columns')\n"
   ]
  },
  {
   "cell_type": "code",
   "execution_count": 7,
   "metadata": {},
   "outputs": [],
   "source": [
    "### assign columns for dataframes\n",
    "\n",
    "\n",
    "dataFdict1.columns = ['Constant Train','High Initial Pulses']\n",
    "dataFdict2.columns = ['Constant Train','High Initial Pulses']\n",
    "\n",
    "\n",
    "dataMelt1 = pd.melt(dataFdict1)\n",
    "#dataMelt1['Subject'] = 'a1355e'\n",
    "dataMelt1['Subject'] = '1'\n",
    "dataMelt1['block'] = '1'\n",
    "               \n",
    "dataMelt2 = pd.melt(dataFdict2)\n",
    "#dataMelt2['Subject'] = 'a1355e'\n",
    "dataMelt2['Subject'] = '1'\n",
    "dataMelt2['block'] = '2'\n",
    "dataMelt1.rename(columns = {'variable':'Experiment','value':'Response Time (ms)'}, inplace = True)\n",
    "dataMelt2.rename(columns = {'variable':'Experiment','value':'Response Time (ms)'}, inplace = True)\n"
   ]
  },
  {
   "cell_type": "code",
   "execution_count": 8,
   "metadata": {},
   "outputs": [],
   "source": [
    "### concatenate\n",
    "\n",
    "frames = [dataMelt1,dataMelt2]\n",
    "\n",
    "result = pd.concat(frames)\n",
    "result\n",
    "resultTrim = result[(result['Response Time (ms)'] < respHi) & (result['Response Time (ms)'] > respLo)]\n",
    "resultTrim.groupby(['Experiment','Subject','block']).mean()\n",
    "\n",
    "experimentsOfInt =  ['Constant Train','High Initial Pulses']"
   ]
  },
  {
   "cell_type": "code",
   "execution_count": 9,
   "metadata": {},
   "outputs": [
    {
     "data": {
      "text/html": [
       "<div>\n",
       "<style scoped>\n",
       "    .dataframe tbody tr th:only-of-type {\n",
       "        vertical-align: middle;\n",
       "    }\n",
       "\n",
       "    .dataframe tbody tr th {\n",
       "        vertical-align: top;\n",
       "    }\n",
       "\n",
       "    .dataframe thead tr th {\n",
       "        text-align: left;\n",
       "    }\n",
       "\n",
       "    .dataframe thead tr:last-of-type th {\n",
       "        text-align: right;\n",
       "    }\n",
       "</style>\n",
       "<table border=\"1\" class=\"dataframe\">\n",
       "  <thead>\n",
       "    <tr>\n",
       "      <th></th>\n",
       "      <th></th>\n",
       "      <th colspan=\"8\" halign=\"left\">Response Time (ms)</th>\n",
       "    </tr>\n",
       "    <tr>\n",
       "      <th></th>\n",
       "      <th></th>\n",
       "      <th>count</th>\n",
       "      <th>mean</th>\n",
       "      <th>std</th>\n",
       "      <th>min</th>\n",
       "      <th>25%</th>\n",
       "      <th>50%</th>\n",
       "      <th>75%</th>\n",
       "      <th>max</th>\n",
       "    </tr>\n",
       "    <tr>\n",
       "      <th>Subject</th>\n",
       "      <th>Experiment</th>\n",
       "      <th></th>\n",
       "      <th></th>\n",
       "      <th></th>\n",
       "      <th></th>\n",
       "      <th></th>\n",
       "      <th></th>\n",
       "      <th></th>\n",
       "      <th></th>\n",
       "    </tr>\n",
       "  </thead>\n",
       "  <tbody>\n",
       "    <tr>\n",
       "      <th rowspan=\"2\" valign=\"top\">1</th>\n",
       "      <th>Constant Train</th>\n",
       "      <td>21.0</td>\n",
       "      <td>478.0</td>\n",
       "      <td>101.0</td>\n",
       "      <td>297.0</td>\n",
       "      <td>428.0</td>\n",
       "      <td>473.0</td>\n",
       "      <td>527.0</td>\n",
       "      <td>763.0</td>\n",
       "    </tr>\n",
       "    <tr>\n",
       "      <th>High Initial Pulses</th>\n",
       "      <td>21.0</td>\n",
       "      <td>444.0</td>\n",
       "      <td>145.0</td>\n",
       "      <td>214.0</td>\n",
       "      <td>370.0</td>\n",
       "      <td>414.0</td>\n",
       "      <td>461.0</td>\n",
       "      <td>834.0</td>\n",
       "    </tr>\n",
       "  </tbody>\n",
       "</table>\n",
       "</div>"
      ],
      "text/plain": [
       "                            Response Time (ms)                              \\\n",
       "                                         count   mean    std    min    25%   \n",
       "Subject Experiment                                                           \n",
       "1       Constant Train                    21.0  478.0  101.0  297.0  428.0   \n",
       "        High Initial Pulses               21.0  444.0  145.0  214.0  370.0   \n",
       "\n",
       "                                                  \n",
       "                               50%    75%    max  \n",
       "Subject Experiment                                \n",
       "1       Constant Train       473.0  527.0  763.0  \n",
       "        High Initial Pulses  414.0  461.0  834.0  "
      ]
     },
     "execution_count": 9,
     "metadata": {},
     "output_type": "execute_result"
    }
   ],
   "source": [
    "### look at various metrics of interest\n",
    "\n",
    "\n",
    "dataCleaned = resultTrim[resultTrim['Experiment'].isin(experimentsOfInt)]\n",
    "dataCleaned.groupby(['Experiment','Subject','block']).mean()\n",
    "dataCleaned.groupby(['Experiment','Subject','block']).describe()\n",
    "dataCleaned.groupby(['Subject','Experiment']).describe().round()\n",
    "\n",
    "#dataCleaned.groupby(['Subject','experiment']).mean()\n",
    "#dataCleaned.groupby(['Subject','experiment']).std()\n",
    "\n",
    "# get counts of each type\n",
    "#dataCleaned.groupby(['Subject','experiment']).count()"
   ]
  },
  {
   "cell_type": "code",
   "execution_count": 10,
   "metadata": {},
   "outputs": [
    {
     "data": {
      "image/png": "[encoded data removed]",
      "text/plain": [
       "<Figure size 648x72 with 1 Axes>"
      ]
     },
     "metadata": {
      "needs_background": "light"
     },
     "output_type": "display_data"
    },
    {
     "data": {
      "image/png": "[encoded data removed]",
      "text/plain": [
       "<Figure size 648x72 with 1 Axes>"
      ]
     },
     "metadata": {
      "needs_background": "light"
     },
     "output_type": "display_data"
    }
   ],
   "source": [
    "# set the color palette \n",
    "\n",
    "color_pal=sns.choose_colorbrewer_palette('qualitative')\n",
    "\n",
    "#use set 1\n",
    "\n",
    "# observe color palette \n",
    "\n",
    "sns.palplot(color_pal)\n",
    "color_pal_3 = color_pal[0:4]\n",
    "color_pal_2 = color_pal[3:5]\n",
    "color_pal_2_v2 = color_pal[6:8]"
   ]
  },
  {
   "cell_type": "code",
   "execution_count": 11,
   "metadata": {},
   "outputs": [
    {
     "name": "stderr",
     "output_type": "stream",
     "text": [
      "No handles with labels found to put in legend.\n"
     ]
    },
    {
     "data": {
      "text/plain": [
       "<matplotlib.legend.Legend at 0x11599966160>"
      ]
     },
     "execution_count": 11,
     "metadata": {},
     "output_type": "execute_result"
    },
    {
     "data": {
      "image/png": "[encoded data removed]",
      "text/plain": [
       "<Figure size 432x288 with 1 Axes>"
      ]
     },
     "metadata": {
      "needs_background": "light"
     },
     "output_type": "display_data"
    }
   ],
   "source": [
    "figPrime = sns.swarmplot(x=\"Experiment\",y=\"Response Time (ms)\",data=dataCleaned,palette=color_pal_2_v2)\n",
    "figPrime.set_title('Modified stimulus train response times')\n",
    "figPrime.set_xlabel('')\n",
    "figPrime.legend()"
   ]
  },
  {
   "cell_type": "code",
   "execution_count": 20,
   "metadata": {
    "scrolled": true
   },
   "outputs": [
    {
     "data": {
      "text/plain": [
       "<Figure size 288x288 with 0 Axes>"
      ]
     },
     "metadata": {},
     "output_type": "display_data"
    },
    {
     "data": {
      "image/png": "[encoded data removed]",
      "text/plain": [
       "<Figure size 432x432 with 1 Axes>"
      ]
     },
     "metadata": {
      "needs_background": "light"
     },
     "output_type": "display_data"
    }
   ],
   "source": [
    "### use the \"data cleaned\" variable from above to make the individual subject plot\n",
    "\n",
    "plt.figure(figsize=(4,4))\n",
    "plt.tight_layout()\n",
    "\n",
    "sns.set_context(\"paper\")\n",
    "\n",
    "frameIndividual = sns.FacetGrid(data=dataCleaned,col='Subject',height=6, aspect=1,sharex=False,sharey=True)\n",
    "#frameIndividual.map(sns.swarmplot,'experiment','response time (ms)','typeOrder')\n",
    "\n",
    "frameIndividual.map(sns.swarmplot,\"Experiment\",\"Response Time (ms)\",palette='husl',order = ['Constant Train','High Initial Pulses'])\n",
    "frameIndividual.axes[0,0].set_xlabel('')\n",
    "\n",
    "#dataCleaned['typeOrder']\n",
    "figIndividual = plt.gcf()\n",
    "plt.ylim([0,900])\n",
    "\n",
    "frameIndividual.axes[0,0].set_title('Different Stimulation Train \\n Response Times Subject 1 ')\n",
    "\n",
    "if saveFig:\n",
    "    figIndividual.savefig('a1355e_priming_RT_CP.svg', dpi=600,bbox_inches='tight')\n",
    "    figIndividual.savefig('a1355e_priming_RT_CP.png', dpi=600,bbox_inches='tight')\n"
   ]
  },
  {
   "cell_type": "code",
   "execution_count": 21,
   "metadata": {},
   "outputs": [
    {
     "data": {
      "text/html": [
       "<div>\n",
       "<style scoped>\n",
       "    .dataframe tbody tr th:only-of-type {\n",
       "        vertical-align: middle;\n",
       "    }\n",
       "\n",
       "    .dataframe tbody tr th {\n",
       "        vertical-align: top;\n",
       "    }\n",
       "\n",
       "    .dataframe thead th {\n",
       "        text-align: right;\n",
       "    }\n",
       "</style>\n",
       "<table border=\"1\" class=\"dataframe\">\n",
       "  <thead>\n",
       "    <tr style=\"text-align: right;\">\n",
       "      <th></th>\n",
       "      <th>Experiment</th>\n",
       "      <th>Response Time (ms)</th>\n",
       "      <th>Subject</th>\n",
       "      <th>block</th>\n",
       "    </tr>\n",
       "  </thead>\n",
       "  <tbody>\n",
       "    <tr>\n",
       "      <th>0</th>\n",
       "      <td>Constant Train</td>\n",
       "      <td>569.54880</td>\n",
       "      <td>1</td>\n",
       "      <td>1</td>\n",
       "    </tr>\n",
       "    <tr>\n",
       "      <th>4</th>\n",
       "      <td>Constant Train</td>\n",
       "      <td>519.33184</td>\n",
       "      <td>1</td>\n",
       "      <td>1</td>\n",
       "    </tr>\n",
       "    <tr>\n",
       "      <th>5</th>\n",
       "      <td>Constant Train</td>\n",
       "      <td>450.06848</td>\n",
       "      <td>1</td>\n",
       "      <td>1</td>\n",
       "    </tr>\n",
       "    <tr>\n",
       "      <th>7</th>\n",
       "      <td>Constant Train</td>\n",
       "      <td>375.15264</td>\n",
       "      <td>1</td>\n",
       "      <td>1</td>\n",
       "    </tr>\n",
       "    <tr>\n",
       "      <th>9</th>\n",
       "      <td>Constant Train</td>\n",
       "      <td>541.12256</td>\n",
       "      <td>1</td>\n",
       "      <td>1</td>\n",
       "    </tr>\n",
       "    <tr>\n",
       "      <th>11</th>\n",
       "      <td>Constant Train</td>\n",
       "      <td>485.13024</td>\n",
       "      <td>1</td>\n",
       "      <td>1</td>\n",
       "    </tr>\n",
       "    <tr>\n",
       "      <th>12</th>\n",
       "      <td>Constant Train</td>\n",
       "      <td>526.62272</td>\n",
       "      <td>1</td>\n",
       "      <td>1</td>\n",
       "    </tr>\n",
       "    <tr>\n",
       "      <th>14</th>\n",
       "      <td>Constant Train</td>\n",
       "      <td>622.51008</td>\n",
       "      <td>1</td>\n",
       "      <td>1</td>\n",
       "    </tr>\n",
       "    <tr>\n",
       "      <th>15</th>\n",
       "      <td>High Initial Pulses</td>\n",
       "      <td>413.16352</td>\n",
       "      <td>1</td>\n",
       "      <td>1</td>\n",
       "    </tr>\n",
       "    <tr>\n",
       "      <th>16</th>\n",
       "      <td>High Initial Pulses</td>\n",
       "      <td>380.10880</td>\n",
       "      <td>1</td>\n",
       "      <td>1</td>\n",
       "    </tr>\n",
       "    <tr>\n",
       "      <th>17</th>\n",
       "      <td>High Initial Pulses</td>\n",
       "      <td>221.10208</td>\n",
       "      <td>1</td>\n",
       "      <td>1</td>\n",
       "    </tr>\n",
       "    <tr>\n",
       "      <th>21</th>\n",
       "      <td>High Initial Pulses</td>\n",
       "      <td>460.22656</td>\n",
       "      <td>1</td>\n",
       "      <td>1</td>\n",
       "    </tr>\n",
       "    <tr>\n",
       "      <th>23</th>\n",
       "      <td>High Initial Pulses</td>\n",
       "      <td>429.67040</td>\n",
       "      <td>1</td>\n",
       "      <td>1</td>\n",
       "    </tr>\n",
       "    <tr>\n",
       "      <th>24</th>\n",
       "      <td>High Initial Pulses</td>\n",
       "      <td>333.08672</td>\n",
       "      <td>1</td>\n",
       "      <td>1</td>\n",
       "    </tr>\n",
       "    <tr>\n",
       "      <th>26</th>\n",
       "      <td>High Initial Pulses</td>\n",
       "      <td>833.69984</td>\n",
       "      <td>1</td>\n",
       "      <td>1</td>\n",
       "    </tr>\n",
       "    <tr>\n",
       "      <th>27</th>\n",
       "      <td>High Initial Pulses</td>\n",
       "      <td>637.46048</td>\n",
       "      <td>1</td>\n",
       "      <td>1</td>\n",
       "    </tr>\n",
       "    <tr>\n",
       "      <th>0</th>\n",
       "      <td>Constant Train</td>\n",
       "      <td>457.89184</td>\n",
       "      <td>1</td>\n",
       "      <td>2</td>\n",
       "    </tr>\n",
       "    <tr>\n",
       "      <th>1</th>\n",
       "      <td>Constant Train</td>\n",
       "      <td>488.24320</td>\n",
       "      <td>1</td>\n",
       "      <td>2</td>\n",
       "    </tr>\n",
       "    <tr>\n",
       "      <th>2</th>\n",
       "      <td>Constant Train</td>\n",
       "      <td>446.62784</td>\n",
       "      <td>1</td>\n",
       "      <td>2</td>\n",
       "    </tr>\n",
       "    <tr>\n",
       "      <th>3</th>\n",
       "      <td>Constant Train</td>\n",
       "      <td>464.07680</td>\n",
       "      <td>1</td>\n",
       "      <td>2</td>\n",
       "    </tr>\n",
       "    <tr>\n",
       "      <th>5</th>\n",
       "      <td>Constant Train</td>\n",
       "      <td>472.55552</td>\n",
       "      <td>1</td>\n",
       "      <td>2</td>\n",
       "    </tr>\n",
       "    <tr>\n",
       "      <th>6</th>\n",
       "      <td>Constant Train</td>\n",
       "      <td>763.08480</td>\n",
       "      <td>1</td>\n",
       "      <td>2</td>\n",
       "    </tr>\n",
       "    <tr>\n",
       "      <th>7</th>\n",
       "      <td>Constant Train</td>\n",
       "      <td>400.58880</td>\n",
       "      <td>1</td>\n",
       "      <td>2</td>\n",
       "    </tr>\n",
       "    <tr>\n",
       "      <th>8</th>\n",
       "      <td>Constant Train</td>\n",
       "      <td>349.71648</td>\n",
       "      <td>1</td>\n",
       "      <td>2</td>\n",
       "    </tr>\n",
       "    <tr>\n",
       "      <th>9</th>\n",
       "      <td>Constant Train</td>\n",
       "      <td>428.40064</td>\n",
       "      <td>1</td>\n",
       "      <td>2</td>\n",
       "    </tr>\n",
       "    <tr>\n",
       "      <th>10</th>\n",
       "      <td>Constant Train</td>\n",
       "      <td>374.12864</td>\n",
       "      <td>1</td>\n",
       "      <td>2</td>\n",
       "    </tr>\n",
       "    <tr>\n",
       "      <th>11</th>\n",
       "      <td>Constant Train</td>\n",
       "      <td>297.28768</td>\n",
       "      <td>1</td>\n",
       "      <td>2</td>\n",
       "    </tr>\n",
       "    <tr>\n",
       "      <th>12</th>\n",
       "      <td>Constant Train</td>\n",
       "      <td>475.75040</td>\n",
       "      <td>1</td>\n",
       "      <td>2</td>\n",
       "    </tr>\n",
       "    <tr>\n",
       "      <th>13</th>\n",
       "      <td>Constant Train</td>\n",
       "      <td>533.70880</td>\n",
       "      <td>1</td>\n",
       "      <td>2</td>\n",
       "    </tr>\n",
       "    <tr>\n",
       "      <th>15</th>\n",
       "      <td>High Initial Pulses</td>\n",
       "      <td>403.37408</td>\n",
       "      <td>1</td>\n",
       "      <td>2</td>\n",
       "    </tr>\n",
       "    <tr>\n",
       "      <th>16</th>\n",
       "      <td>High Initial Pulses</td>\n",
       "      <td>446.99648</td>\n",
       "      <td>1</td>\n",
       "      <td>2</td>\n",
       "    </tr>\n",
       "    <tr>\n",
       "      <th>17</th>\n",
       "      <td>High Initial Pulses</td>\n",
       "      <td>461.37344</td>\n",
       "      <td>1</td>\n",
       "      <td>2</td>\n",
       "    </tr>\n",
       "    <tr>\n",
       "      <th>18</th>\n",
       "      <td>High Initial Pulses</td>\n",
       "      <td>413.77792</td>\n",
       "      <td>1</td>\n",
       "      <td>2</td>\n",
       "    </tr>\n",
       "    <tr>\n",
       "      <th>20</th>\n",
       "      <td>High Initial Pulses</td>\n",
       "      <td>402.51392</td>\n",
       "      <td>1</td>\n",
       "      <td>2</td>\n",
       "    </tr>\n",
       "    <tr>\n",
       "      <th>22</th>\n",
       "      <td>High Initial Pulses</td>\n",
       "      <td>625.54112</td>\n",
       "      <td>1</td>\n",
       "      <td>2</td>\n",
       "    </tr>\n",
       "    <tr>\n",
       "      <th>23</th>\n",
       "      <td>High Initial Pulses</td>\n",
       "      <td>434.25792</td>\n",
       "      <td>1</td>\n",
       "      <td>2</td>\n",
       "    </tr>\n",
       "    <tr>\n",
       "      <th>24</th>\n",
       "      <td>High Initial Pulses</td>\n",
       "      <td>556.56448</td>\n",
       "      <td>1</td>\n",
       "      <td>2</td>\n",
       "    </tr>\n",
       "    <tr>\n",
       "      <th>25</th>\n",
       "      <td>High Initial Pulses</td>\n",
       "      <td>621.56800</td>\n",
       "      <td>1</td>\n",
       "      <td>2</td>\n",
       "    </tr>\n",
       "    <tr>\n",
       "      <th>26</th>\n",
       "      <td>High Initial Pulses</td>\n",
       "      <td>320.96256</td>\n",
       "      <td>1</td>\n",
       "      <td>2</td>\n",
       "    </tr>\n",
       "    <tr>\n",
       "      <th>27</th>\n",
       "      <td>High Initial Pulses</td>\n",
       "      <td>370.23744</td>\n",
       "      <td>1</td>\n",
       "      <td>2</td>\n",
       "    </tr>\n",
       "    <tr>\n",
       "      <th>28</th>\n",
       "      <td>High Initial Pulses</td>\n",
       "      <td>350.45376</td>\n",
       "      <td>1</td>\n",
       "      <td>2</td>\n",
       "    </tr>\n",
       "    <tr>\n",
       "      <th>29</th>\n",
       "      <td>High Initial Pulses</td>\n",
       "      <td>213.72928</td>\n",
       "      <td>1</td>\n",
       "      <td>2</td>\n",
       "    </tr>\n",
       "  </tbody>\n",
       "</table>\n",
       "</div>"
      ],
      "text/plain": [
       "             Experiment  Response Time (ms) Subject block\n",
       "0        Constant Train           569.54880       1     1\n",
       "4        Constant Train           519.33184       1     1\n",
       "5        Constant Train           450.06848       1     1\n",
       "7        Constant Train           375.15264       1     1\n",
       "9        Constant Train           541.12256       1     1\n",
       "11       Constant Train           485.13024       1     1\n",
       "12       Constant Train           526.62272       1     1\n",
       "14       Constant Train           622.51008       1     1\n",
       "15  High Initial Pulses           413.16352       1     1\n",
       "16  High Initial Pulses           380.10880       1     1\n",
       "17  High Initial Pulses           221.10208       1     1\n",
       "21  High Initial Pulses           460.22656       1     1\n",
       "23  High Initial Pulses           429.67040       1     1\n",
       "24  High Initial Pulses           333.08672       1     1\n",
       "26  High Initial Pulses           833.69984       1     1\n",
       "27  High Initial Pulses           637.46048       1     1\n",
       "0        Constant Train           457.89184       1     2\n",
       "1        Constant Train           488.24320       1     2\n",
       "2        Constant Train           446.62784       1     2\n",
       "3        Constant Train           464.07680       1     2\n",
       "5        Constant Train           472.55552       1     2\n",
       "6        Constant Train           763.08480       1     2\n",
       "7        Constant Train           400.58880       1     2\n",
       "8        Constant Train           349.71648       1     2\n",
       "9        Constant Train           428.40064       1     2\n",
       "10       Constant Train           374.12864       1     2\n",
       "11       Constant Train           297.28768       1     2\n",
       "12       Constant Train           475.75040       1     2\n",
       "13       Constant Train           533.70880       1     2\n",
       "15  High Initial Pulses           403.37408       1     2\n",
       "16  High Initial Pulses           446.99648       1     2\n",
       "17  High Initial Pulses           461.37344       1     2\n",
       "18  High Initial Pulses           413.77792       1     2\n",
       "20  High Initial Pulses           402.51392       1     2\n",
       "22  High Initial Pulses           625.54112       1     2\n",
       "23  High Initial Pulses           434.25792       1     2\n",
       "24  High Initial Pulses           556.56448       1     2\n",
       "25  High Initial Pulses           621.56800       1     2\n",
       "26  High Initial Pulses           320.96256       1     2\n",
       "27  High Initial Pulses           370.23744       1     2\n",
       "28  High Initial Pulses           350.45376       1     2\n",
       "29  High Initial Pulses           213.72928       1     2"
      ]
     },
     "execution_count": 21,
     "metadata": {},
     "output_type": "execute_result"
    }
   ],
   "source": [
    "dataCleaned"
   ]
  },
  {
   "cell_type": "code",
   "execution_count": 25,
   "metadata": {},
   "outputs": [
    {
     "data": {
      "text/plain": [
       "KruskalResult(statistic=1.949216896060733, pvalue=0.16267126262868642)"
      ]
     },
     "execution_count": 25,
     "metadata": {},
     "output_type": "execute_result"
    }
   ],
   "source": [
    "from scipy.stats.mstats import kruskalwallis\n",
    "\n",
    "'Constant Train','High Initial Pulses'\n",
    "\n",
    "priming = dataCleaned[(dataCleaned.Subject == '1') & (dataCleaned.Experiment == 'High Initial Pulses')]['Response Time (ms)'].dropna()\n",
    "noPriming = dataCleaned[(dataCleaned.Subject == '1') & (dataCleaned.Experiment == 'Constant Train')]['Response Time (ms)'].dropna()\n",
    "scipy.stats.kruskal(priming,noPriming)\n"
   ]
  },
  {
   "cell_type": "markdown",
   "metadata": {},
   "source": [
    "### check normality"
   ]
  },
  {
   "cell_type": "code",
   "execution_count": 30,
   "metadata": {},
   "outputs": [
    {
     "data": {
      "text/plain": [
       "Experiment\n",
       "Constant Train         (0.38507980030714606, 0.36095825095384915)\n",
       "High Initial Pulses      (0.6870515792738026, 0.0620842337707819)\n",
       "dtype: object"
      ]
     },
     "execution_count": 30,
     "metadata": {},
     "output_type": "execute_result"
    }
   ],
   "source": [
    "data = dataCleaned.dropna()\n",
    "\n",
    "groupedData = data.groupby(['Experiment'])\n",
    "\n",
    "groupedData.apply(lambda x: scipy.stats.anderson((x['Response Time (ms)']),dist='norm'))\n",
    "\n",
    "import statsmodels.api as sm\n",
    "groupedData.apply(lambda x: sm.stats.diagnostic.normal_ad((x['Response Time (ms)'])))\n",
    "\n",
    "\n"
   ]
  },
  {
   "cell_type": "code",
   "execution_count": 31,
   "metadata": {},
   "outputs": [
    {
     "data": {
      "text/plain": [
       "Experiment\n",
       "Constant Train                          (0.1268587802000184, 0.2)\n",
       "High Initial Pulses    (0.21500911156846692, 0.01230882130441606)\n",
       "dtype: object"
      ]
     },
     "execution_count": 31,
     "metadata": {},
     "output_type": "execute_result"
    }
   ],
   "source": [
    "groupedData.apply(lambda x: sm.stats.diagnostic.kstest_normal(x['Response Time (ms)'], dist='norm', pvalmethod='approx'))\n"
   ]
  },
  {
   "cell_type": "code",
   "execution_count": 32,
   "metadata": {},
   "outputs": [
    {
     "data": {
      "text/plain": [
       "LeveneResult(statistic=1.0999067944143952, pvalue=0.3005822378134691)"
      ]
     },
     "execution_count": 32,
     "metadata": {},
     "output_type": "execute_result"
    }
   ],
   "source": [
    "scipy.stats.levene(data['Response Time (ms)'][data.Experiment=='High Initial Pulses'],data['Response Time (ms)'][data.Experiment=='Constant Train'])"
   ]
  },
  {
   "cell_type": "code",
   "execution_count": null,
   "metadata": {},
   "outputs": [],
   "source": []
  }
 ],
 "metadata": {
  "kernelspec": {
   "display_name": "Python 3",
   "language": "python",
   "name": "python3"
  },
  "language_info": {
   "codemirror_mode": {
    "name": "ipython",
    "version": 3
   },
   "file_extension": ".py",
   "mimetype": "text/x-python",
   "name": "python",
   "nbconvert_exporter": "python",
   "pygments_lexer": "ipython3",
   "version": "3.7.3"
  }
 },
 "nbformat": 4,
 "nbformat_minor": 2
}
