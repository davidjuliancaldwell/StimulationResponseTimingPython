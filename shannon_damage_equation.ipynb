{
 "cells": [
  {
   "cell_type": "markdown",
   "metadata": {},
   "source": [
    "## DJC - Shannon equation calculations for beta stim paper"
   ]
  },
  {
   "cell_type": "markdown",
   "metadata": {},
   "source": [
    "### 1. Cogan SF, Ludwig KA, Welle CG, Takmakov P. Tissue damage thresholds during therapeutic electrical stimulation. J Neural Eng. 2016;13(2):21001. doi:10.1088/1741-2560/13/2/021001."
   ]
  },
  {
   "cell_type": "markdown",
   "metadata": {},
   "source": [
    "### shannon equation\n",
    "### $ log(D) = k - log(Q) $\n",
    "### $ k = 1.85 $\n",
    "### charge density = D, charge per phase = Q \n",
    "\n",
    "### we are in the macro region according to the article (> 30 micron diamater) \n",
    "\n",
    "### radius = 2.3 mm, so 0.23 cm\n",
    "\n",
    "### max current was 3500 uA = 3500e-6 A\n",
    "\n",
    "### time per phase, 1.23 ms, so 1.23e-3 s\n",
    "\n",
    "### tissue damage threshold of $ 30 \\mu C/cm^{2} $"
   ]
  },
  {
   "cell_type": "code",
   "execution_count": 21,
   "metadata": {
    "collapsed": false
   },
   "outputs": [
    {
     "name": "stdout",
     "output_type": "stream",
     "text": [
      "the charge per phase is 4.305 uC\n",
      "the charge per phase is 0.6339731557896735 log10 uC\n",
      "the charge density is 103.6161860129466 uC/cm^2\n",
      "the charge per phase is 2.0154276023883164 log10 uC/cm^2\n"
     ]
    }
   ],
   "source": [
    "import numpy as np\n",
    "\n",
    "r = 0.23/2\n",
    "area = np.pi*(r**2)\n",
    "\n",
    "max_current = 3500\n",
    "time_per_phase = 1.23e-3\n",
    "\n",
    "charge_per_phase= time_per_phase*max_current\n",
    "print('the charge per phase is {} uC'.format(charge_per_phase))\n",
    "\n",
    "# look at log10 like 2016 paper \n",
    "print('the charge per phase is {} log10 uC'.format(np.log10(charge_per_phase)))\n",
    "\n",
    "# look at charge/cm^2\n",
    "\n",
    "# charge density\n",
    "\n",
    "charge_density = charge_per_phase/area\n",
    "\n",
    "print('the charge density is {} uC/cm^2'.format(charge_density))\n",
    "\n",
    "# look at log10 \n",
    "\n",
    "print ('the charge per phase is {} log10 uC/cm^2'.format(np.log10(charge_density)))"
   ]
  },
  {
   "cell_type": "code",
   "execution_count": null,
   "metadata": {
    "collapsed": true
   },
   "outputs": [],
   "source": []
  }
 ],
 "metadata": {
  "kernelspec": {
   "display_name": "Python 3",
   "language": "python",
   "name": "python3"
  },
  "language_info": {
   "codemirror_mode": {
    "name": "ipython",
    "version": 3
   },
   "file_extension": ".py",
   "mimetype": "text/x-python",
   "name": "python",
   "nbconvert_exporter": "python",
   "pygments_lexer": "ipython3",
   "version": "3.6.0"
  }
 },
 "nbformat": 4,
 "nbformat_minor": 2
}
